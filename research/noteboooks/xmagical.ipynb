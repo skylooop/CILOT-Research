{
 "cells": [
  {
   "cell_type": "code",
   "execution_count": 9,
   "metadata": {},
   "outputs": [],
   "source": [
    "#import gym\n",
    "import gymnasium as gym\n",
    "import xmagical\n",
    "import warnings\n",
    "\n",
    "warnings.filterwarnings(\"ignore\")"
   ]
  },
  {
   "cell_type": "code",
   "execution_count": 2,
   "metadata": {},
   "outputs": [
    {
     "data": {
      "text/plain": [
       "True"
      ]
     },
     "execution_count": 2,
     "metadata": {},
     "output_type": "execute_result"
    }
   ],
   "source": [
    "xmagical.register_envs()"
   ]
  },
  {
   "cell_type": "code",
   "execution_count": 3,
   "metadata": {},
   "outputs": [
    {
     "data": {
      "text/plain": [
       "['SweepToTop-Gripper-Pixels-Allo-Demo-v0',\n",
       " 'SweepToTop-Gripper-Pixels-Ego-Demo-v0',\n",
       " 'SweepToTop-Gripper-State-Allo-Demo-v0',\n",
       " 'SweepToTop-Gripper-State-Ego-Demo-v0',\n",
       " 'SweepToTop-Gripper-Pixels-Allo-TestLayout-v0',\n",
       " 'SweepToTop-Gripper-Pixels-Ego-TestLayout-v0',\n",
       " 'SweepToTop-Gripper-State-Allo-TestLayout-v0',\n",
       " 'SweepToTop-Gripper-State-Ego-TestLayout-v0',\n",
       " 'SweepToTop-Gripper-Pixels-Allo-TestShape-v0',\n",
       " 'SweepToTop-Gripper-Pixels-Ego-TestShape-v0',\n",
       " 'SweepToTop-Gripper-State-Allo-TestShape-v0',\n",
       " 'SweepToTop-Gripper-State-Ego-TestShape-v0',\n",
       " 'SweepToTop-Gripper-Pixels-Allo-TestColor-v0',\n",
       " 'SweepToTop-Gripper-Pixels-Ego-TestColor-v0',\n",
       " 'SweepToTop-Gripper-State-Allo-TestColor-v0',\n",
       " 'SweepToTop-Gripper-State-Ego-TestColor-v0',\n",
       " 'SweepToTop-Gripper-Pixels-Allo-TestDynamics-v0',\n",
       " 'SweepToTop-Gripper-Pixels-Ego-TestDynamics-v0',\n",
       " 'SweepToTop-Gripper-State-Allo-TestDynamics-v0',\n",
       " 'SweepToTop-Gripper-State-Ego-TestDynamics-v0',\n",
       " 'SweepToTop-Gripper-Pixels-Allo-TestAll-v0',\n",
       " 'SweepToTop-Gripper-Pixels-Ego-TestAll-v0',\n",
       " 'SweepToTop-Gripper-State-Allo-TestAll-v0',\n",
       " 'SweepToTop-Gripper-State-Ego-TestAll-v0',\n",
       " 'SweepToTop-Shortstick-Pixels-Allo-Demo-v0',\n",
       " 'SweepToTop-Shortstick-Pixels-Ego-Demo-v0',\n",
       " 'SweepToTop-Shortstick-State-Allo-Demo-v0',\n",
       " 'SweepToTop-Shortstick-State-Ego-Demo-v0',\n",
       " 'SweepToTop-Shortstick-Pixels-Allo-TestLayout-v0',\n",
       " 'SweepToTop-Shortstick-Pixels-Ego-TestLayout-v0',\n",
       " 'SweepToTop-Shortstick-State-Allo-TestLayout-v0',\n",
       " 'SweepToTop-Shortstick-State-Ego-TestLayout-v0',\n",
       " 'SweepToTop-Shortstick-Pixels-Allo-TestShape-v0',\n",
       " 'SweepToTop-Shortstick-Pixels-Ego-TestShape-v0',\n",
       " 'SweepToTop-Shortstick-State-Allo-TestShape-v0',\n",
       " 'SweepToTop-Shortstick-State-Ego-TestShape-v0',\n",
       " 'SweepToTop-Shortstick-Pixels-Allo-TestColor-v0',\n",
       " 'SweepToTop-Shortstick-Pixels-Ego-TestColor-v0',\n",
       " 'SweepToTop-Shortstick-State-Allo-TestColor-v0',\n",
       " 'SweepToTop-Shortstick-State-Ego-TestColor-v0',\n",
       " 'SweepToTop-Shortstick-Pixels-Allo-TestDynamics-v0',\n",
       " 'SweepToTop-Shortstick-Pixels-Ego-TestDynamics-v0',\n",
       " 'SweepToTop-Shortstick-State-Allo-TestDynamics-v0',\n",
       " 'SweepToTop-Shortstick-State-Ego-TestDynamics-v0',\n",
       " 'SweepToTop-Shortstick-Pixels-Allo-TestAll-v0',\n",
       " 'SweepToTop-Shortstick-Pixels-Ego-TestAll-v0',\n",
       " 'SweepToTop-Shortstick-State-Allo-TestAll-v0',\n",
       " 'SweepToTop-Shortstick-State-Ego-TestAll-v0',\n",
       " 'SweepToTop-Mediumstick-Pixels-Allo-Demo-v0',\n",
       " 'SweepToTop-Mediumstick-Pixels-Ego-Demo-v0',\n",
       " 'SweepToTop-Mediumstick-State-Allo-Demo-v0',\n",
       " 'SweepToTop-Mediumstick-State-Ego-Demo-v0',\n",
       " 'SweepToTop-Mediumstick-Pixels-Allo-TestLayout-v0',\n",
       " 'SweepToTop-Mediumstick-Pixels-Ego-TestLayout-v0',\n",
       " 'SweepToTop-Mediumstick-State-Allo-TestLayout-v0',\n",
       " 'SweepToTop-Mediumstick-State-Ego-TestLayout-v0',\n",
       " 'SweepToTop-Mediumstick-Pixels-Allo-TestShape-v0',\n",
       " 'SweepToTop-Mediumstick-Pixels-Ego-TestShape-v0',\n",
       " 'SweepToTop-Mediumstick-State-Allo-TestShape-v0',\n",
       " 'SweepToTop-Mediumstick-State-Ego-TestShape-v0',\n",
       " 'SweepToTop-Mediumstick-Pixels-Allo-TestColor-v0',\n",
       " 'SweepToTop-Mediumstick-Pixels-Ego-TestColor-v0',\n",
       " 'SweepToTop-Mediumstick-State-Allo-TestColor-v0',\n",
       " 'SweepToTop-Mediumstick-State-Ego-TestColor-v0',\n",
       " 'SweepToTop-Mediumstick-Pixels-Allo-TestDynamics-v0',\n",
       " 'SweepToTop-Mediumstick-Pixels-Ego-TestDynamics-v0',\n",
       " 'SweepToTop-Mediumstick-State-Allo-TestDynamics-v0',\n",
       " 'SweepToTop-Mediumstick-State-Ego-TestDynamics-v0',\n",
       " 'SweepToTop-Mediumstick-Pixels-Allo-TestAll-v0',\n",
       " 'SweepToTop-Mediumstick-Pixels-Ego-TestAll-v0',\n",
       " 'SweepToTop-Mediumstick-State-Allo-TestAll-v0',\n",
       " 'SweepToTop-Mediumstick-State-Ego-TestAll-v0',\n",
       " 'SweepToTop-Longstick-Pixels-Allo-Demo-v0',\n",
       " 'SweepToTop-Longstick-Pixels-Ego-Demo-v0',\n",
       " 'SweepToTop-Longstick-State-Allo-Demo-v0',\n",
       " 'SweepToTop-Longstick-State-Ego-Demo-v0',\n",
       " 'SweepToTop-Longstick-Pixels-Allo-TestLayout-v0',\n",
       " 'SweepToTop-Longstick-Pixels-Ego-TestLayout-v0',\n",
       " 'SweepToTop-Longstick-State-Allo-TestLayout-v0',\n",
       " 'SweepToTop-Longstick-State-Ego-TestLayout-v0',\n",
       " 'SweepToTop-Longstick-Pixels-Allo-TestShape-v0',\n",
       " 'SweepToTop-Longstick-Pixels-Ego-TestShape-v0',\n",
       " 'SweepToTop-Longstick-State-Allo-TestShape-v0',\n",
       " 'SweepToTop-Longstick-State-Ego-TestShape-v0',\n",
       " 'SweepToTop-Longstick-Pixels-Allo-TestColor-v0',\n",
       " 'SweepToTop-Longstick-Pixels-Ego-TestColor-v0',\n",
       " 'SweepToTop-Longstick-State-Allo-TestColor-v0',\n",
       " 'SweepToTop-Longstick-State-Ego-TestColor-v0',\n",
       " 'SweepToTop-Longstick-Pixels-Allo-TestDynamics-v0',\n",
       " 'SweepToTop-Longstick-Pixels-Ego-TestDynamics-v0',\n",
       " 'SweepToTop-Longstick-State-Allo-TestDynamics-v0',\n",
       " 'SweepToTop-Longstick-State-Ego-TestDynamics-v0',\n",
       " 'SweepToTop-Longstick-Pixels-Allo-TestAll-v0',\n",
       " 'SweepToTop-Longstick-Pixels-Ego-TestAll-v0',\n",
       " 'SweepToTop-Longstick-State-Allo-TestAll-v0',\n",
       " 'SweepToTop-Longstick-State-Ego-TestAll-v0']"
      ]
     },
     "execution_count": 3,
     "metadata": {},
     "output_type": "execute_result"
    }
   ],
   "source": [
    "xmagical.ALL_REGISTERED_ENVS"
   ]
  },
  {
   "cell_type": "code",
   "execution_count": 4,
   "metadata": {},
   "outputs": [],
   "source": [
    "env = gym.make('SweepToTop-Longstick-State-Allo-Demo-v0', disable_env_checker =True) #\n",
    "obs = env.reset()\n"
   ]
  },
  {
   "cell_type": "code",
   "execution_count": 5,
   "metadata": {},
   "outputs": [
    {
     "data": {
      "text/plain": [
       "<matplotlib.image.AxesImage at 0x7f4185994280>"
      ]
     },
     "execution_count": 5,
     "metadata": {},
     "output_type": "execute_result"
    },
    {
     "data": {
      "image/png": "[encoded data removed]",
      "text/plain": [
       "<Figure size 640x480 with 1 Axes>"
      ]
     },
     "metadata": {},
     "output_type": "display_data"
    }
   ],
   "source": [
    "import matplotlib.pyplot as plt\n",
    "\n",
    "plt.imshow(env.render(\"rgb_array\"))"
   ]
  },
  {
   "cell_type": "code",
   "execution_count": 8,
   "metadata": {},
   "outputs": [],
   "source": [
    "import sys\n",
    "sys.path.append(\"/home/m_bobrin/CILOT-Research\")\n",
    "\n",
    "from video import VideoRecorder\n",
    "\n",
    "vid = VideoRecorder(\"/home/m_bobrin/CILOT-Research/research/noteboooks\")\n",
    "vid.init(enabled=True)"
   ]
  },
  {
   "cell_type": "code",
   "execution_count": 9,
   "metadata": {},
   "outputs": [
    {
     "data": {
      "text/plain": [
       "array([[-0.29850915, -0.32876673],\n",
       "       [-0.31957802, -0.34498873],\n",
       "       [-0.5242824 , -0.28172266],\n",
       "       [-0.48426369,  0.3562108 ],\n",
       "       [-0.22365993, -0.09843649],\n",
       "       [ 0.14741829, -0.86907375],\n",
       "       [ 0.12207146, -0.93190533],\n",
       "       [ 0.16009319, -0.88167036],\n",
       "       [ 0.17973328, -0.81451344],\n",
       "       [ 0.18559605, -0.73446369],\n",
       "       [ 0.18055508, -0.6309278 ],\n",
       "       [ 0.19181849, -0.49659958],\n",
       "       [ 0.15181327, -0.31173387],\n",
       "       [ 0.10351796, -0.13214797],\n",
       "       [ 0.11306649,  0.01314459],\n",
       "       [ 0.25272855, -0.01365443],\n",
       "       [ 0.38610402,  0.01638232],\n",
       "       [ 0.51775289,  0.24737085],\n",
       "       [ 0.84461248,  0.21305555],\n",
       "       [ 0.97246832,  0.5000723 ],\n",
       "       [ 0.99553102,  0.89426011],\n",
       "       [ 0.99500066,  0.87107462],\n",
       "       [ 0.92803371,  0.64432633],\n",
       "       [ 0.30601886, -0.65350223],\n",
       "       [ 0.58062059, -0.97784817],\n",
       "       [ 0.72832084, -0.89968479],\n",
       "       [ 0.54572695, -0.75289446],\n",
       "       [ 0.27971962, -0.88438028],\n",
       "       [ 0.42941797, -0.98277819],\n",
       "       [ 0.55916631, -0.99320865],\n",
       "       [ 0.68423247, -0.85875237],\n",
       "       [ 0.90034151,  0.75666797],\n",
       "       [ 0.96277708,  0.99031395],\n",
       "       [ 0.89130372,  0.99555713],\n",
       "       [ 0.91743261,  0.99445951],\n",
       "       [ 0.95743638,  0.99455136],\n",
       "       [ 0.96636254,  0.99334341],\n",
       "       [ 0.98161066,  0.98844576],\n",
       "       [ 0.99782473,  0.96114439],\n",
       "       [ 0.99836886,  0.90261477],\n",
       "       [ 0.98895884,  0.87223268],\n",
       "       [ 0.83040082,  0.82311624],\n",
       "       [ 0.5744288 ,  0.62015092],\n",
       "       [ 0.60705471,  0.00180449],\n",
       "       [ 0.61965978, -0.61911064],\n",
       "       [ 0.9091053 , -0.74667561],\n",
       "       [ 0.96035802, -0.73268431],\n",
       "       [ 0.94011146, -0.61085457],\n",
       "       [ 0.93301564, -0.43157572],\n",
       "       [ 0.98589778,  0.40590385],\n",
       "       [ 0.99304515,  0.93262506],\n",
       "       [ 0.9815976 ,  0.96730411],\n",
       "       [ 0.95612729,  0.85629529],\n",
       "       [ 0.97335654,  0.63039762],\n",
       "       [ 0.96296108,  0.74086982],\n",
       "       [ 0.96076065,  0.71069121],\n",
       "       [ 0.95983005,  0.68215656],\n",
       "       [ 0.96932799,  0.68821812],\n",
       "       [ 0.96470791,  0.66738367],\n",
       "       [ 0.95938563,  0.66186655],\n",
       "       [ 0.94055456,  0.77503943],\n",
       "       [ 0.92172146,  0.61046231],\n",
       "       [ 0.85149908, -0.31850082],\n",
       "       [ 0.76128685, -0.89968932],\n",
       "       [ 0.81859565, -0.87756103],\n",
       "       [ 0.86549157, -0.84804171],\n",
       "       [ 0.89573145, -0.79059047],\n",
       "       [ 0.97570258,  0.13588513],\n",
       "       [ 0.99077582,  0.80358833],\n",
       "       [ 0.96543628,  0.63624918],\n",
       "       [ 0.9205305 ,  0.27672216],\n",
       "       [ 0.92995584,  0.21017274],\n",
       "       [ 0.93243307,  0.23416953],\n",
       "       [ 0.93847817,  0.31462026],\n",
       "       [ 0.94030005,  0.33554664],\n",
       "       [ 0.93766892,  0.27743047],\n",
       "       [ 0.95201397,  0.20487517],\n",
       "       [ 0.95630443,  0.46203202],\n",
       "       [ 0.93052638,  0.46051639],\n",
       "       [ 0.71320081,  0.26131904],\n",
       "       [ 0.52742827, -0.36145622],\n",
       "       [ 0.61412859, -0.52594882],\n",
       "       [ 0.80507821, -0.48273599],\n",
       "       [ 0.88500834, -0.33017483],\n",
       "       [ 0.94349384, -0.27326724],\n",
       "       [ 0.93783766, -0.15339303],\n",
       "       [ 0.87081695,  0.06337482],\n",
       "       [ 0.84958011, -0.18789695],\n",
       "       [ 0.80005693, -0.44661987],\n",
       "       [ 0.75448686, -0.40500787],\n",
       "       [ 0.83761036,  0.00956824],\n",
       "       [ 0.69577122,  0.09627438],\n",
       "       [ 0.77532232,  0.5583716 ],\n",
       "       [ 0.85827523,  0.83044457],\n",
       "       [ 0.8135758 ,  0.74985331],\n",
       "       [ 0.70015609,  0.41999137],\n",
       "       [ 0.63409072,  0.12894103],\n",
       "       [ 0.64609373,  0.52975148],\n",
       "       [ 0.79299545,  0.70314938],\n",
       "       [ 0.52632475, -0.02435391],\n",
       "       [ 0.17169157, -0.31490019],\n",
       "       [ 0.28498414, -0.17038187],\n",
       "       [ 0.53130722, -0.00772709],\n",
       "       [ 0.64061242, -0.07251972],\n",
       "       [ 0.6660468 , -0.34297067],\n",
       "       [ 0.74743861, -0.07481266],\n",
       "       [ 0.78000277, -0.04342542],\n",
       "       [ 0.62012357, -0.45027724],\n",
       "       [ 0.72612846, -0.36494836],\n",
       "       [ 0.56624067, -0.34900439],\n",
       "       [ 0.61680293, -0.05780505],\n",
       "       [ 0.78235495,  0.7051816 ],\n",
       "       [ 0.80738211,  0.77526492],\n",
       "       [ 0.80609119,  0.74234653],\n",
       "       [ 0.70210195,  0.56956267],\n",
       "       [ 0.60694051,  0.07528863],\n",
       "       [ 0.52962387,  0.2979686 ],\n",
       "       [ 0.75250393,  0.68421209],\n",
       "       [ 0.58984375,  0.27066082],\n",
       "       [ 0.07420805, -0.35938856],\n",
       "       [ 0.13018757, -0.21737936],\n",
       "       [ 0.35482728, -0.01509371],\n",
       "       [ 0.47815463,  0.22275423],\n",
       "       [ 0.48760679,  0.1119682 ],\n",
       "       [ 0.50596327, -0.14990006],\n",
       "       [ 0.62749624, -0.4438861 ],\n",
       "       [ 0.67206311, -0.20959009],\n",
       "       [ 0.71526074, -0.20532708],\n",
       "       [ 0.67488003, -0.45353386],\n",
       "       [ 0.60741639, -0.41550934],\n",
       "       [ 0.60617447, -0.37038451],\n",
       "       [ 0.60131562, -0.31094518],\n",
       "       [ 0.72005016,  0.52475548],\n",
       "       [ 0.790429  ,  0.76957476],\n",
       "       [ 0.82507992,  0.79688293],\n",
       "       [ 0.78408575,  0.67159671],\n",
       "       [ 0.64740163,  0.18905836],\n",
       "       [ 0.521047  ,  0.14269277],\n",
       "       [ 0.64410067,  0.60791022],\n",
       "       [ 0.52971345,  0.4080908 ],\n",
       "       [ 0.02161483, -0.30227742],\n",
       "       [ 0.04288688, -0.30628467],\n",
       "       [ 0.29247347, -0.16385455],\n",
       "       [ 0.4835569 ,  0.10403067],\n",
       "       [ 0.57349503,  0.091917  ],\n",
       "       [ 0.57757115, -0.18494636],\n",
       "       [ 0.63994551, -0.32996646],\n",
       "       [ 0.69726944, -0.00860569],\n",
       "       [ 0.69020557, -0.27613297],\n",
       "       [ 0.6752007 , -0.38125432],\n",
       "       [ 0.5404855 , -0.52359641],\n",
       "       [ 0.62071759, -0.4801046 ],\n",
       "       [ 0.5524804 , -0.51353997],\n",
       "       [ 0.61300802, -0.14235131],\n",
       "       [ 0.72341293,  0.6177457 ],\n",
       "       [ 0.75198472,  0.75035447],\n",
       "       [ 0.7960276 ,  0.75402915],\n",
       "       [ 0.68870807,  0.54276085],\n",
       "       [ 0.5745064 , -0.01886644],\n",
       "       [ 0.47446582,  0.14170428],\n",
       "       [ 0.6686824 ,  0.50537395],\n",
       "       [ 0.67225748,  0.37023047],\n",
       "       [ 0.2665793 , -0.09913332],\n",
       "       [ 0.05055509, -0.37480268],\n",
       "       [ 0.2390258 , -0.2568171 ],\n",
       "       [ 0.49372417, -0.00784707],\n",
       "       [ 0.62331629, -0.19435462],\n",
       "       [ 0.65769374, -0.24558234],\n",
       "       [ 0.72950321,  0.07676862],\n",
       "       [ 0.69874156, -0.0945079 ],\n",
       "       [ 0.59367955, -0.43976828],\n",
       "       [ 0.56862342, -0.51107156],\n",
       "       [ 0.589324  , -0.4549548 ],\n",
       "       [ 0.59440887, -0.3009223 ],\n",
       "       [ 0.67121583,  0.49517217],\n",
       "       [ 0.69351733,  0.76412821],\n",
       "       [ 0.75536335,  0.81855917],\n",
       "       [ 0.81919354,  0.70176679],\n",
       "       [ 0.58558929,  0.1931715 ],\n",
       "       [ 0.42501691, -0.12586235],\n",
       "       [ 0.46421865,  0.31958017],\n",
       "       [ 0.63860762,  0.3663424 ],\n",
       "       [ 0.35020566, -0.13060239],\n",
       "       [ 0.16602787, -0.47153893],\n",
       "       [ 0.41817969, -0.33887172],\n",
       "       [ 0.63779318, -0.19646014],\n",
       "       [ 0.80075955,  0.17031781],\n",
       "       [ 0.84627581,  0.18360744],\n",
       "       [ 0.67663097, -0.08706622],\n",
       "       [ 0.55264974, -0.35904887],\n",
       "       [ 0.37610614, -0.46747804],\n",
       "       [ 0.42720366, -0.57169145],\n",
       "       [ 0.52003372, -0.48660305],\n",
       "       [ 0.59438193, -0.23637934],\n",
       "       [ 0.68583834,  0.26541451],\n",
       "       [ 0.68839526,  0.57440788],\n",
       "       [ 0.72834527,  0.62467468],\n",
       "       [ 0.73051679,  0.32707193],\n",
       "       [ 0.56125295, -0.25822788],\n",
       "       [ 0.26846477, -0.47272578]])"
      ]
     },
     "execution_count": 9,
     "metadata": {},
     "output_type": "execute_result"
    }
   ],
   "source": [
    "import numpy as np\n",
    "import json\n",
    "\n",
    "actions_gripper = np.asarray(json.load(open('/home/m_bobrin/CILOT-Research/x_magical_datasets/xmagical/train/longstick/0/actions.json', 'r')))\n",
    "actions_gripper"
   ]
  },
  {
   "cell_type": "code",
   "execution_count": 10,
   "metadata": {},
   "outputs": [],
   "source": [
    "env.reset()\n",
    "i = 0\n",
    "for en in range(50):\n",
    "    #observation, done = env.reset(), False\n",
    "    observation, _, done, info = env.step(actions_gripper[i])\n",
    "    i += 1\n",
    "    vid.record(env)\n",
    "    if done:\n",
    "        env.reset()\n",
    "        i = 0\n",
    "        done = False"
   ]
  },
  {
   "cell_type": "code",
   "execution_count": 11,
   "metadata": {},
   "outputs": [
    {
     "name": "stdout",
     "output_type": "stream",
     "text": [
      "Moviepy - Building video /home/m_bobrin/CILOT-Research/research/noteboooks/videos/rl-video-episode-0.mp4.\n",
      "Moviepy - Writing video /home/m_bobrin/CILOT-Research/research/noteboooks/videos/rl-video-episode-0.mp4\n",
      "\n"
     ]
    },
    {
     "name": "stderr",
     "output_type": "stream",
     "text": [
      "                                                             "
     ]
    },
    {
     "name": "stdout",
     "output_type": "stream",
     "text": [
      "Moviepy - Done !\n",
      "Moviepy - video ready /home/m_bobrin/CILOT-Research/research/noteboooks/videos/rl-video-episode-0.mp4\n"
     ]
    },
    {
     "name": "stderr",
     "output_type": "stream",
     "text": [
      "\r"
     ]
    }
   ],
   "source": [
    "from gymnasium.utils.save_video import save_video\n",
    "\n",
    "save_video(\n",
    "         vid.frames,\n",
    "         \"videos\",\n",
    "         fps=10,\n",
    "      )"
   ]
  },
  {
   "cell_type": "code",
   "execution_count": null,
   "metadata": {},
   "outputs": [],
   "source": []
  }
 ],
 "metadata": {
  "kernelspec": {
   "display_name": "CORL",
   "language": "python",
   "name": "python3"
  },
  "language_info": {
   "codemirror_mode": {
    "name": "ipython",
    "version": 3
   },
   "file_extension": ".py",
   "mimetype": "text/x-python",
   "name": "python",
   "nbconvert_exporter": "python",
   "pygments_lexer": "ipython3",
   "version": "3.8.16"
  },
  "orig_nbformat": 4
 },
 "nbformat": 4,
 "nbformat_minor": 2
}
