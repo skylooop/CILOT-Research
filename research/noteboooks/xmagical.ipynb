{
 "cells": [
  {
   "cell_type": "code",
   "execution_count": 10,
   "metadata": {},
   "outputs": [],
   "source": [
    "import gym\n",
    "import gymnasium as gym\n",
    "import xmagical\n",
    "import warnings\n",
    "\n",
    "warnings.filterwarnings(\"ignore\")"
   ]
  },
  {
   "cell_type": "code",
   "execution_count": null,
   "metadata": {},
   "outputs": [],
   "source": [
    "import numpy as np\n",
    "import sys\n",
    "sys.path.append(\"../..\")\n",
    "from icvf_dataset import Dataset\n",
    "\n",
    "fname = \"/home/m_bobrin/CILOT-Research/datasets/x_magical/xmagical_replay_icvf/gripper_train.npz\"\n",
    "buffer = np.load(fname)\n",
    "keys = buffer.keys()\n",
    "ans = {k: buffer[k] for k in keys}\n",
    "Dataset(ans)"
   ]
  },
  {
   "cell_type": "code",
   "execution_count": 16,
   "metadata": {},
   "outputs": [],
   "source": [
    "import sys\n",
    "sys.path.append(\"../..\")\n",
    "from environments.utils import get_dataset\n",
    "\n",
    "test_ds = get_dataset(\"gripper\")['observations']"
   ]
  },
  {
   "cell_type": "code",
   "execution_count": 22,
   "metadata": {},
   "outputs": [
    {
     "data": {
      "text/plain": [
       "<matplotlib.image.AxesImage at 0x7f3dfeecf0a0>"
      ]
     },
     "execution_count": 22,
     "metadata": {},
     "output_type": "execute_result"
    },
    {
     "data": {
      "image/png": "[encoded data removed]",
      "text/plain": [
       "<Figure size 640x480 with 1 Axes>"
      ]
     },
     "metadata": {},
     "output_type": "display_data"
    }
   ],
   "source": [
    "import matplotlib.pyplot as plt\n",
    "\n",
    "plt.imshow(test_ds[30])"
   ]
  },
  {
   "cell_type": "code",
   "execution_count": 12,
   "metadata": {},
   "outputs": [
    {
     "data": {
      "text/plain": [
       "False"
      ]
     },
     "execution_count": 12,
     "metadata": {},
     "output_type": "execute_result"
    }
   ],
   "source": [
    "xmagical.register_envs()"
   ]
  },
  {
   "cell_type": "code",
   "execution_count": 13,
   "metadata": {},
   "outputs": [
    {
     "data": {
      "text/plain": [
       "['SweepToTop-Gripper-Pixels-Allo-Demo-v0',\n",
       " 'SweepToTop-Gripper-Pixels-Ego-Demo-v0',\n",
       " 'SweepToTop-Gripper-State-Allo-Demo-v0',\n",
       " 'SweepToTop-Gripper-State-Ego-Demo-v0',\n",
       " 'SweepToTop-Gripper-Pixels-Allo-TestLayout-v0',\n",
       " 'SweepToTop-Gripper-Pixels-Ego-TestLayout-v0',\n",
       " 'SweepToTop-Gripper-State-Allo-TestLayout-v0',\n",
       " 'SweepToTop-Gripper-State-Ego-TestLayout-v0',\n",
       " 'SweepToTop-Gripper-Pixels-Allo-TestShape-v0',\n",
       " 'SweepToTop-Gripper-Pixels-Ego-TestShape-v0',\n",
       " 'SweepToTop-Gripper-State-Allo-TestShape-v0',\n",
       " 'SweepToTop-Gripper-State-Ego-TestShape-v0',\n",
       " 'SweepToTop-Gripper-Pixels-Allo-TestColor-v0',\n",
       " 'SweepToTop-Gripper-Pixels-Ego-TestColor-v0',\n",
       " 'SweepToTop-Gripper-State-Allo-TestColor-v0',\n",
       " 'SweepToTop-Gripper-State-Ego-TestColor-v0',\n",
       " 'SweepToTop-Gripper-Pixels-Allo-TestDynamics-v0',\n",
       " 'SweepToTop-Gripper-Pixels-Ego-TestDynamics-v0',\n",
       " 'SweepToTop-Gripper-State-Allo-TestDynamics-v0',\n",
       " 'SweepToTop-Gripper-State-Ego-TestDynamics-v0',\n",
       " 'SweepToTop-Gripper-Pixels-Allo-TestAll-v0',\n",
       " 'SweepToTop-Gripper-Pixels-Ego-TestAll-v0',\n",
       " 'SweepToTop-Gripper-State-Allo-TestAll-v0',\n",
       " 'SweepToTop-Gripper-State-Ego-TestAll-v0',\n",
       " 'SweepToTop-Shortstick-Pixels-Allo-Demo-v0',\n",
       " 'SweepToTop-Shortstick-Pixels-Ego-Demo-v0',\n",
       " 'SweepToTop-Shortstick-State-Allo-Demo-v0',\n",
       " 'SweepToTop-Shortstick-State-Ego-Demo-v0',\n",
       " 'SweepToTop-Shortstick-Pixels-Allo-TestLayout-v0',\n",
       " 'SweepToTop-Shortstick-Pixels-Ego-TestLayout-v0',\n",
       " 'SweepToTop-Shortstick-State-Allo-TestLayout-v0',\n",
       " 'SweepToTop-Shortstick-State-Ego-TestLayout-v0',\n",
       " 'SweepToTop-Shortstick-Pixels-Allo-TestShape-v0',\n",
       " 'SweepToTop-Shortstick-Pixels-Ego-TestShape-v0',\n",
       " 'SweepToTop-Shortstick-State-Allo-TestShape-v0',\n",
       " 'SweepToTop-Shortstick-State-Ego-TestShape-v0',\n",
       " 'SweepToTop-Shortstick-Pixels-Allo-TestColor-v0',\n",
       " 'SweepToTop-Shortstick-Pixels-Ego-TestColor-v0',\n",
       " 'SweepToTop-Shortstick-State-Allo-TestColor-v0',\n",
       " 'SweepToTop-Shortstick-State-Ego-TestColor-v0',\n",
       " 'SweepToTop-Shortstick-Pixels-Allo-TestDynamics-v0',\n",
       " 'SweepToTop-Shortstick-Pixels-Ego-TestDynamics-v0',\n",
       " 'SweepToTop-Shortstick-State-Allo-TestDynamics-v0',\n",
       " 'SweepToTop-Shortstick-State-Ego-TestDynamics-v0',\n",
       " 'SweepToTop-Shortstick-Pixels-Allo-TestAll-v0',\n",
       " 'SweepToTop-Shortstick-Pixels-Ego-TestAll-v0',\n",
       " 'SweepToTop-Shortstick-State-Allo-TestAll-v0',\n",
       " 'SweepToTop-Shortstick-State-Ego-TestAll-v0',\n",
       " 'SweepToTop-Mediumstick-Pixels-Allo-Demo-v0',\n",
       " 'SweepToTop-Mediumstick-Pixels-Ego-Demo-v0',\n",
       " 'SweepToTop-Mediumstick-State-Allo-Demo-v0',\n",
       " 'SweepToTop-Mediumstick-State-Ego-Demo-v0',\n",
       " 'SweepToTop-Mediumstick-Pixels-Allo-TestLayout-v0',\n",
       " 'SweepToTop-Mediumstick-Pixels-Ego-TestLayout-v0',\n",
       " 'SweepToTop-Mediumstick-State-Allo-TestLayout-v0',\n",
       " 'SweepToTop-Mediumstick-State-Ego-TestLayout-v0',\n",
       " 'SweepToTop-Mediumstick-Pixels-Allo-TestShape-v0',\n",
       " 'SweepToTop-Mediumstick-Pixels-Ego-TestShape-v0',\n",
       " 'SweepToTop-Mediumstick-State-Allo-TestShape-v0',\n",
       " 'SweepToTop-Mediumstick-State-Ego-TestShape-v0',\n",
       " 'SweepToTop-Mediumstick-Pixels-Allo-TestColor-v0',\n",
       " 'SweepToTop-Mediumstick-Pixels-Ego-TestColor-v0',\n",
       " 'SweepToTop-Mediumstick-State-Allo-TestColor-v0',\n",
       " 'SweepToTop-Mediumstick-State-Ego-TestColor-v0',\n",
       " 'SweepToTop-Mediumstick-Pixels-Allo-TestDynamics-v0',\n",
       " 'SweepToTop-Mediumstick-Pixels-Ego-TestDynamics-v0',\n",
       " 'SweepToTop-Mediumstick-State-Allo-TestDynamics-v0',\n",
       " 'SweepToTop-Mediumstick-State-Ego-TestDynamics-v0',\n",
       " 'SweepToTop-Mediumstick-Pixels-Allo-TestAll-v0',\n",
       " 'SweepToTop-Mediumstick-Pixels-Ego-TestAll-v0',\n",
       " 'SweepToTop-Mediumstick-State-Allo-TestAll-v0',\n",
       " 'SweepToTop-Mediumstick-State-Ego-TestAll-v0',\n",
       " 'SweepToTop-Longstick-Pixels-Allo-Demo-v0',\n",
       " 'SweepToTop-Longstick-Pixels-Ego-Demo-v0',\n",
       " 'SweepToTop-Longstick-State-Allo-Demo-v0',\n",
       " 'SweepToTop-Longstick-State-Ego-Demo-v0',\n",
       " 'SweepToTop-Longstick-Pixels-Allo-TestLayout-v0',\n",
       " 'SweepToTop-Longstick-Pixels-Ego-TestLayout-v0',\n",
       " 'SweepToTop-Longstick-State-Allo-TestLayout-v0',\n",
       " 'SweepToTop-Longstick-State-Ego-TestLayout-v0',\n",
       " 'SweepToTop-Longstick-Pixels-Allo-TestShape-v0',\n",
       " 'SweepToTop-Longstick-Pixels-Ego-TestShape-v0',\n",
       " 'SweepToTop-Longstick-State-Allo-TestShape-v0',\n",
       " 'SweepToTop-Longstick-State-Ego-TestShape-v0',\n",
       " 'SweepToTop-Longstick-Pixels-Allo-TestColor-v0',\n",
       " 'SweepToTop-Longstick-Pixels-Ego-TestColor-v0',\n",
       " 'SweepToTop-Longstick-State-Allo-TestColor-v0',\n",
       " 'SweepToTop-Longstick-State-Ego-TestColor-v0',\n",
       " 'SweepToTop-Longstick-Pixels-Allo-TestDynamics-v0',\n",
       " 'SweepToTop-Longstick-Pixels-Ego-TestDynamics-v0',\n",
       " 'SweepToTop-Longstick-State-Allo-TestDynamics-v0',\n",
       " 'SweepToTop-Longstick-State-Ego-TestDynamics-v0',\n",
       " 'SweepToTop-Longstick-Pixels-Allo-TestAll-v0',\n",
       " 'SweepToTop-Longstick-Pixels-Ego-TestAll-v0',\n",
       " 'SweepToTop-Longstick-State-Allo-TestAll-v0',\n",
       " 'SweepToTop-Longstick-State-Ego-TestAll-v0']"
      ]
     },
     "execution_count": 13,
     "metadata": {},
     "output_type": "execute_result"
    }
   ],
   "source": [
    "xmagical.ALL_REGISTERED_ENVS"
   ]
  },
  {
   "cell_type": "code",
   "execution_count": 14,
   "metadata": {},
   "outputs": [],
   "source": [
    "env = gym.make('SweepToTop-Longstick-State-Allo-Demo-v0', disable_env_checker =True) #\n",
    "obs = env.reset()\n"
   ]
  },
  {
   "cell_type": "code",
   "execution_count": null,
   "metadata": {},
   "outputs": [],
   "source": [
    "import matplotlib.pyplot as plt\n",
    "\n",
    "plt.imshow(env.render(\"rgb_array\"))"
   ]
  },
  {
   "cell_type": "code",
   "execution_count": null,
   "metadata": {},
   "outputs": [],
   "source": [
    "import sys\n",
    "sys.path.append(\"/home/m_bobrin/CILOT-Research\")\n",
    "\n",
    "from video import VideoRecorder\n",
    "\n",
    "vid = VideoRecorder(\"/home/m_bobrin/CILOT-Research/research/noteboooks\")\n",
    "vid.init(enabled=True)"
   ]
  },
  {
   "cell_type": "code",
   "execution_count": null,
   "metadata": {},
   "outputs": [],
   "source": [
    "import numpy as np\n",
    "import json\n",
    "\n",
    "actions_gripper = np.asarray(json.load(open('/home/m_bobrin/CILOT-Research/x_magical_datasets/xmagical/train/longstick/0/actions.json', 'r')))\n",
    "actions_gripper"
   ]
  },
  {
   "cell_type": "code",
   "execution_count": null,
   "metadata": {},
   "outputs": [],
   "source": [
    "env.reset()\n",
    "i = 0\n",
    "for en in range(50):\n",
    "    #observation, done = env.reset(), False\n",
    "    observation, _, done, info = env.step(actions_gripper[i])\n",
    "    i += 1\n",
    "    vid.record(env)\n",
    "    if done:\n",
    "        env.reset()\n",
    "        i = 0\n",
    "        done = False"
   ]
  },
  {
   "cell_type": "code",
   "execution_count": null,
   "metadata": {},
   "outputs": [],
   "source": [
    "from gymnasium.utils.save_video import save_video\n",
    "\n",
    "save_video(\n",
    "         vid.frames,\n",
    "         \"videos\",\n",
    "         fps=10,\n",
    "      )"
   ]
  },
  {
   "cell_type": "code",
   "execution_count": null,
   "metadata": {},
   "outputs": [],
   "source": []
  }
 ],
 "metadata": {
  "kernelspec": {
   "display_name": "CORL",
   "language": "python",
   "name": "python3"
  },
  "language_info": {
   "codemirror_mode": {
    "name": "ipython",
    "version": 3
   },
   "file_extension": ".py",
   "mimetype": "text/x-python",
   "name": "python",
   "nbconvert_exporter": "python",
   "pygments_lexer": "ipython3",
   "version": "3.8.16"
  },
  "orig_nbformat": 4
 },
 "nbformat": 4,
 "nbformat_minor": 2
}
